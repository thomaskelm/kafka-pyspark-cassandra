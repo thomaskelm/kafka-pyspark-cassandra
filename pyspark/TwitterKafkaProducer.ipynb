{
 "cells": [
  {
   "cell_type": "code",
   "execution_count": null,
   "metadata": {},
   "outputs": [],
   "source": [
    "import time\n",
    "import http.client\n",
    "import tweepy\n",
    "import nltk\n",
    "import config\n",
    "from kafka import KafkaProducer\n",
    "from json import dumps\n",
    "from afinn import Afinn\n",
    "\n",
    "# Pre-Trained Sentiment Analysis Library\n",
    "afinn = Afinn(emoticons=True)\n",
    "\n",
    "\n",
    "# Uses Sentiment score to classify as negative/neutral/positive\n",
    "def sentimentValue(text):\n",
    "    sentiment = afinn.score(text)\n",
    "    if sentiment < 0:\n",
    "        return (sentiment,'negative')\n",
    "    elif sentiment == 0:\n",
    "        return (sentiment,'neutral')\n",
    "    else:\n",
    "        return (sentiment,'positive')\n",
    "    \n",
    "# Connect to the Kafka Cluster and register as a producer\n",
    "producer = KafkaProducer(bootstrap_servers=['kafka:9092'],\n",
    "                         value_serializer=lambda x: \n",
    "                         dumps(x).encode('utf-8'))\n"
   ]
  },
  {
   "cell_type": "code",
   "execution_count": null,
   "metadata": {
    "scrolled": true
   },
   "outputs": [],
   "source": [
    "# Pull in the api_key, api_secret, access_token, and token_secret\n",
    "auth = tweepy.OAuthHandler(config.api_key, config.api_secret)\n",
    "auth.set_access_token(config.access_token, config.token_secret)\n",
    "\n",
    "\n",
    "# Connect to tweepy API\n",
    "api = tweepy.API(auth)\n",
    "\n",
    "\n",
    "maxId=0\n",
    "\n",
    "# Gather data from tweepy every 60 seconds from the start time\n",
    "# home_timeline endpoint rate limited to 15 requests every 15 minutes\n",
    "starttime=time.time()\n",
    "while True:\n",
    "    print('Getting Tweets at ',time.time())\n",
    "    if maxId == 0 :\n",
    "        public_tweets = api.home_timeline(count=200)\n",
    "    else:\n",
    "        public_tweets = api.home_timeline(count=200,since_id=maxId)\n",
    "    \n",
    "    for tweet in public_tweets:\n",
    "        if maxId<tweet.id:\n",
    "            maxId=tweet.id\n",
    "        \n",
    "        sentiment = sentimentValue(tweet.text)\n",
    "        payload = {'id':tweet.id,\\\n",
    "                   'text':tweet.text,\\\n",
    "                   'created_at':str(tweet.created_at),\\\n",
    "                   'sentimentScore':sentiment[0],\\\n",
    "                   'sentiment':sentiment[1]}\n",
    "        \n",
    "        producer.send('incoming_tweets',payload)\n",
    "    \n",
    "    # Sleep at least 60 seconds from the previous iteration\n",
    "    time.sleep(60.0 - ((time.time() - starttime) % 60.0))"
   ]
  },
  {
   "cell_type": "code",
   "execution_count": null,
   "metadata": {
    "scrolled": true
   },
   "outputs": [],
   "source": [
    "maxId=0\n",
    "\n",
    "# What keyword to use in the twitter search function\n",
    "keyword = 'cheese'\n",
    "\n",
    "# Gather data from tweepy every 5 seconds from the start time\n",
    "# search endpoint rate limited to 180 requests every 15 minutes\n",
    "starttime=time.time()\n",
    "while True:\n",
    "    print('Getting Tweets at ',time.time())\n",
    "    if maxId == 0 :\n",
    "        public_tweets = api.search(keyword,result_type='mixed',count=100)\n",
    "    else:\n",
    "        public_tweets = api.search(keyword,since_id=maxId,result_type='mixed',count=100)\n",
    "    \n",
    "    for tweet in public_tweets:\n",
    "        if maxId<tweet.id:\n",
    "            maxId=tweet.id\n",
    "        \n",
    "        sentiment = sentimentValue(tweet.text)\n",
    "        payload = {'id':tweet.id,\\\n",
    "                   'text':tweet.text,\\\n",
    "                   'created_at':str(tweet.created_at),\\\n",
    "                   'sentimentScore':sentiment[0],\\\n",
    "                   'sentiment':sentiment[1]}\n",
    "        \n",
    "        producer.send('incoming_tweets',payload)\n",
    "        \n",
    "    # Sleep at least 5 seconds from the previous iteration\n",
    "    time.sleep(5.0- ((time.time() - starttime) % 5.0))\n",
    "\n"
   ]
  },
  {
   "cell_type": "code",
   "execution_count": null,
   "metadata": {},
   "outputs": [],
   "source": []
  }
 ],
 "metadata": {
  "kernelspec": {
   "display_name": "Python 3",
   "language": "python",
   "name": "python3"
  },
  "language_info": {
   "codemirror_mode": {
    "name": "ipython",
    "version": 3
   },
   "file_extension": ".py",
   "mimetype": "text/x-python",
   "name": "python",
   "nbconvert_exporter": "python",
   "pygments_lexer": "ipython3",
   "version": "3.6.7"
  }
 },
 "nbformat": 4,
 "nbformat_minor": 2
}
