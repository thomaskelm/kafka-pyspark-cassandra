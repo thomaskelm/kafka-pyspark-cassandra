{
 "cells": [
  {
   "cell_type": "code",
   "execution_count": 17,
   "metadata": {},
   "outputs": [],
   "source": [
    "import time\n",
    "import datetime\n",
    "import http.client\n",
    "import tweepy\n",
    "import config\n",
    "from kafka import KafkaProducer\n",
    "from json import dumps\n",
    "from afinn import Afinn\n",
    "\n",
    "# Pre-Trained Sentiment Analysis Library\n",
    "afinn = Afinn(emoticons=True)\n",
    "\n",
    "\n",
    "# Uses Sentiment score to classify as negative/neutral/positive\n",
    "def sentimentValue(text):\n",
    "    sentiment = afinn.score(text)\n",
    "    if sentiment < 0:\n",
    "        return (sentiment,'negative')\n",
    "    elif sentiment == 0:\n",
    "        return (sentiment,'neutral')\n",
    "    else:\n",
    "        return (sentiment,'positive')\n",
    "    \n",
    "# Connect to the Kafka Cluster and register as a producer\n",
    "producer = KafkaProducer(bootstrap_servers=['kafka:9092'],\n",
    "                         value_serializer=lambda x: \n",
    "                         dumps(x).encode('utf-8'))\n",
    "\n",
    "# Pull in the api_key, api_secret, access_token, and token_secret\n",
    "auth = tweepy.OAuthHandler(config.api_key, config.api_secret)\n",
    "auth.set_access_token(config.access_token, config.token_secret)\n",
    "\n",
    "\n",
    "# Connect to tweepy API\n",
    "api = tweepy.API(auth)\n"
   ]
  },
  {
   "cell_type": "code",
   "execution_count": null,
   "metadata": {
    "scrolled": true
   },
   "outputs": [],
   "source": [
    "maxId=0\n",
    "\n",
    "# Gather data from tweepy every 60 seconds from the start time\n",
    "# home_timeline endpoint rate limited to 15 requests every 15 minutes\n",
    "starttime=time.time()\n",
    "while True:\n",
    "    print('Getting Tweets at ',time.time())\n",
    "    if maxId == 0 :\n",
    "        public_tweets = api.home_timeline(count=200)\n",
    "    else:\n",
    "        public_tweets = api.home_timeline(count=200,since_id=maxId)\n",
    "    \n",
    "    for tweet in public_tweets:\n",
    "        if maxId<tweet.id:\n",
    "            maxId=tweet.id\n",
    "        \n",
    "        sentiment = sentimentValue(tweet.text)\n",
    "        payload = {'id':tweet.id,\\\n",
    "                   'text':tweet.text,\\\n",
    "                   'created_at':str(tweet.created_at),\\\n",
    "                   'sentimentScore':sentiment[0],\\\n",
    "                   'sentiment':sentiment[1]}\n",
    "        \n",
    "        producer.send('incoming_tweets',payload)\n",
    "    \n",
    "    # Sleep at least 60 seconds from the previous iteration\n",
    "    time.sleep(60.0 - ((time.time() - starttime) % 60.0))"
   ]
  },
  {
   "cell_type": "code",
   "execution_count": 18,
   "metadata": {
    "scrolled": true
   },
   "outputs": [
    {
     "name": "stdout",
     "output_type": "stream",
     "text": [
      "Getting Tweets at  22:58:00\n",
      "Getting Tweets at  22:58:05\n",
      "Getting Tweets at  22:58:10\n",
      "Getting Tweets at  22:58:15\n",
      "Getting Tweets at  22:58:20\n",
      "Getting Tweets at  22:58:25\n",
      "Getting Tweets at  22:58:30\n",
      "Getting Tweets at  22:58:35\n",
      "Getting Tweets at  22:58:40\n",
      "Getting Tweets at  22:58:45\n",
      "Getting Tweets at  22:58:50\n",
      "Getting Tweets at  22:58:55\n",
      "Getting Tweets at  22:59:00\n",
      "Getting Tweets at  22:59:05\n",
      "Getting Tweets at  22:59:10\n",
      "Getting Tweets at  22:59:15\n",
      "Getting Tweets at  22:59:20\n",
      "Getting Tweets at  22:59:25\n",
      "Getting Tweets at  22:59:30\n",
      "Getting Tweets at  22:59:35\n"
     ]
    },
    {
     "ename": "KeyboardInterrupt",
     "evalue": "",
     "output_type": "error",
     "traceback": [
      "\u001b[0;31m---------------------------------------------------------------------------\u001b[0m",
      "\u001b[0;31mKeyboardInterrupt\u001b[0m                         Traceback (most recent call last)",
      "\u001b[0;32m<ipython-input-18-8b6ff55c5ea4>\u001b[0m in \u001b[0;36m<module>\u001b[0;34m\u001b[0m\n\u001b[1;32m     28\u001b[0m \u001b[0;34m\u001b[0m\u001b[0m\n\u001b[1;32m     29\u001b[0m     \u001b[0;31m# Sleep at least 5 seconds from the previous iteration\u001b[0m\u001b[0;34m\u001b[0m\u001b[0;34m\u001b[0m\u001b[0;34m\u001b[0m\u001b[0m\n\u001b[0;32m---> 30\u001b[0;31m     \u001b[0mtime\u001b[0m\u001b[0;34m.\u001b[0m\u001b[0msleep\u001b[0m\u001b[0;34m(\u001b[0m\u001b[0;36m5.0\u001b[0m\u001b[0;34m-\u001b[0m \u001b[0;34m(\u001b[0m\u001b[0;34m(\u001b[0m\u001b[0mtime\u001b[0m\u001b[0;34m.\u001b[0m\u001b[0mtime\u001b[0m\u001b[0;34m(\u001b[0m\u001b[0;34m)\u001b[0m \u001b[0;34m-\u001b[0m \u001b[0mstarttime\u001b[0m\u001b[0;34m)\u001b[0m \u001b[0;34m%\u001b[0m \u001b[0;36m5.0\u001b[0m\u001b[0;34m)\u001b[0m\u001b[0;34m)\u001b[0m\u001b[0;34m\u001b[0m\u001b[0;34m\u001b[0m\u001b[0m\n\u001b[0m\u001b[1;32m     31\u001b[0m \u001b[0;34m\u001b[0m\u001b[0m\n",
      "\u001b[0;31mKeyboardInterrupt\u001b[0m: "
     ]
    }
   ],
   "source": [
    "maxId=0\n",
    "\n",
    "# What keyword to use in the twitter search function\n",
    "keyword = 'gocoogs'\n",
    "\n",
    "# Gather data from tweepy every 5 seconds from the start time\n",
    "# search endpoint rate limited to 180 requests every 15 minutes\n",
    "starttime=time.time()\n",
    "while True:\n",
    "    print('Getting Tweets at ',datetime.datetime.fromtimestamp(time.time()).strftime('%H:%M:%S'))\n",
    "    if maxId == 0 :\n",
    "        public_tweets = api.search(keyword,result_type='mixed',count=100)\n",
    "    else:\n",
    "        public_tweets = api.search(keyword,since_id=maxId,result_type='mixed',count=100)\n",
    "    \n",
    "    for tweet in public_tweets:\n",
    "        if maxId<tweet.id:\n",
    "            maxId=tweet.id\n",
    "        \n",
    "        sentiment = sentimentValue(tweet.text)\n",
    "        payload = {'id':tweet.id,\\\n",
    "                   'text':tweet.text,\\\n",
    "                   'created_at':str(tweet.created_at),\\\n",
    "                   'sentimentScore':sentiment[0],\\\n",
    "                   'sentiment':sentiment[1]}\n",
    "        \n",
    "        producer.send('incoming_tweets',payload)\n",
    "        \n",
    "    # Sleep at least 5 seconds from the previous iteration\n",
    "    time.sleep(5.0- ((time.time() - starttime) % 5.0))\n",
    "\n"
   ]
  },
  {
   "cell_type": "code",
   "execution_count": null,
   "metadata": {},
   "outputs": [],
   "source": []
  }
 ],
 "metadata": {
  "kernelspec": {
   "display_name": "Python 3",
   "language": "python",
   "name": "python3"
  },
  "language_info": {
   "codemirror_mode": {
    "name": "ipython",
    "version": 3
   },
   "file_extension": ".py",
   "mimetype": "text/x-python",
   "name": "python",
   "nbconvert_exporter": "python",
   "pygments_lexer": "ipython3",
   "version": "3.6.7"
  }
 },
 "nbformat": 4,
 "nbformat_minor": 2
}
